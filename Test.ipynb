{
 "cells": [
  {
   "cell_type": "code",
   "execution_count": 4,
   "id": "4d20a96e-0884-4079-a316-68d265b8aa81",
   "metadata": {},
   "outputs": [
    {
     "name": "stdout",
     "output_type": "stream",
     "text": [
      "Average DAU for November: 560.4666666666667\n"
     ]
    }
   ],
   "source": [
    "import pandas as pd\n",
    "file_path = 'C:/Users/User/Documents/datavis/test.xlsx'\n",
    "data = pd.read_excel(file_path, sheet_name=\"Данные об аудитории\")\n",
    "\n",
    "\n",
    "data['date'] = pd.to_datetime(data['date'])\n",
    "\n",
    "november_data = data[data['date'].dt.month == 11]\n",
    "\n",
    "dau_daily = november_data.groupby(november_data['date'].dt.date)['user_id'].nunique()\n",
    "\n",
    "average_dau_november = dau_daily.mean()\n",
    "\n",
    "print(f\"Average DAU for November: {average_dau_november}\")"
   ]
  },
  {
   "cell_type": "code",
   "execution_count": 8,
   "id": "aaef936c-fc7b-4227-9d91-8cbbf1c11207",
   "metadata": {},
   "outputs": [
    {
     "name": "stdout",
     "output_type": "stream",
     "text": [
      "MAU for November: 7639\n"
     ]
    }
   ],
   "source": [
    "\n",
    "data['date'] = pd.to_datetime(data['date'])\n",
    "\n",
    "november_data = data[data['date'].dt.month == 11]\n",
    "\n",
    "mau_november = november_data['user_id'].nunique()\n",
    "print(f\"MAU for November: {mau_november}\")"
   ]
  },
  {
   "cell_type": "code",
   "execution_count": 10,
   "id": "249e5343-faa8-40cf-a3f0-0503f5526003",
   "metadata": {},
   "outputs": [
    {
     "name": "stdout",
     "output_type": "stream",
     "text": [
      "1-Day Retention Rate for users who joined on November 1: 26.65%\n"
     ]
    }
   ],
   "source": [
    "data['date'] = pd.to_datetime(data['date'])\n",
    "november_1_users = data[data['date'] == '2023-11-01']['user_id'].unique()\n",
    "\n",
    "november_2_users = data[data['date'] == '2023-11-02']['user_id'].unique()\n",
    "retained_users = len(set(november_1_users) & set(november_2_users))\n",
    "retention_rate = (retained_users / len(november_1_users)) * 100\n",
    "print(f\"1-Day Retention Rate for users who joined on November 1: {retention_rate:.2f}%\")"
   ]
  },
  {
   "cell_type": "code",
   "execution_count": 14,
   "id": "d4f4fae1-4a59-4573-948d-c8e47fd6ba6e",
   "metadata": {},
   "outputs": [
    {
     "name": "stdout",
     "output_type": "stream",
     "text": [
      "User Conversion to Ad Views in November: 46.31%\n"
     ]
    }
   ],
   "source": [
    "\n",
    "data['date'] = pd.to_datetime(data['date'])\n",
    "november_data = data[data['date'].dt.month == 11]\n",
    "total_users_november = november_data['user_id'].nunique()\n",
    "\n",
    "users_with_ad_views = november_data[november_data['view_adverts'] > 0]['user_id'].nunique()\n",
    "user_conversion_percentage = (users_with_ad_views / total_users_november) * 100\n",
    "print(f\"User Conversion to Ad Views in November: {user_conversion_percentage:.2f}%\")"
   ]
  },
  {
   "cell_type": "code",
   "execution_count": 16,
   "id": "c1a1ad5c-2915-45b3-bbec-634e689fe579",
   "metadata": {},
   "outputs": [
    {
     "name": "stdout",
     "output_type": "stream",
     "text": [
      "Average Ad Views per User in November: 2.87\n"
     ]
    }
   ],
   "source": [
    "average_ad_views_per_user = november_data.groupby('user_id')['view_adverts'].sum().mean()\n",
    "print(f\"Average Ad Views per User in November: {average_ad_views_per_user:.2f}\")"
   ]
  },
  {
   "cell_type": "code",
   "execution_count": 18,
   "id": "02dbf96e-4005-4902-874d-5a8c08686bf8",
   "metadata": {},
   "outputs": [
    {
     "name": "stdout",
     "output_type": "stream",
     "text": [
      "Net Promoter Score (NPS): 35.0\n"
     ]
    }
   ],
   "source": [
    "promoters = 1200\n",
    "detractors = 500\n",
    "total_respondents = 2000\n",
    "\n",
    "nps = ((promoters - detractors) / total_respondents) * 100\n",
    "print(f\"Net Promoter Score (NPS): {nps}\")"
   ]
  },
  {
   "cell_type": "code",
   "execution_count": 24,
   "id": "f2177375-4a32-4820-93a1-bafcb9451a18",
   "metadata": {},
   "outputs": [
    {
     "name": "stderr",
     "output_type": "stream",
     "text": [
      "<>:5: SyntaxWarning: invalid escape sequence '\\D'\n",
      "<>:5: SyntaxWarning: invalid escape sequence '\\D'\n",
      "C:\\Users\\User\\AppData\\Local\\Temp\\ipykernel_10216\\2938125982.py:5: SyntaxWarning: invalid escape sequence '\\D'\n",
      "  file_path = 'C:/Users/User\\Documents/datavis/test.xlsx'  # Replace with the actual path to your file\n"
     ]
    },
    {
     "name": "stdout",
     "output_type": "stream",
     "text": [
      "   experiment_num  control_mean   test_mean   p_value\n",
      "0               1    722.460215  665.739583  0.688966\n",
      "1               2    704.653763  332.929167  0.001128\n",
      "2               3    663.206452  998.668750  0.060315\n"
     ]
    }
   ],
   "source": [
    "import pandas as pd\n",
    "from scipy.stats import ttest_ind\n",
    "\n",
    "\n",
    "file_path = 'C:/Users/User\\Documents/datavis/test.xlsx' \n",
    "data = pd.read_excel(file_path, sheet_name=\"Данные АБ тестов\")\n",
    "results = []\n",
    "\n",
    "for experiment in data['experiment_num'].unique():\n",
    "    experiment_data = data[data['experiment_num'] == experiment]\n",
    "    \n",
    "    control_group = experiment_data[experiment_data['experiment_group'] == 'control']['revenue']\n",
    "    test_group = experiment_data[experiment_data['experiment_group'] == 'test']['revenue']\n",
    "    \n",
    "    control_mean = control_group.mean()\n",
    "    test_mean = test_group.mean()\n",
    "    \n",
    "    t_stat, p_value = ttest_ind(control_group, test_group, equal_var=False)\n",
    "    \n",
    "    results.append({\n",
    "        'experiment_num': experiment,\n",
    "        'control_mean': control_mean,\n",
    "        'test_mean': test_mean,\n",
    "        'p_value': p_value\n",
    "    })\n",
    "\n",
    "results_df = pd.DataFrame(results)\n",
    "\n",
    "print(results_df)"
   ]
  },
  {
   "cell_type": "code",
   "execution_count": 26,
   "id": "4d0909b5-2b78-4230-be93-068f6a5ca677",
   "metadata": {},
   "outputs": [
    {
     "name": "stdout",
     "output_type": "stream",
     "text": [
      "Средний доход на пользователя (ARPU): 156.48\n"
     ]
    }
   ],
   "source": [
    "\n",
    "lister_data = pd.read_excel(file_path, sheet_name=\"Листеры\")\n",
    "arpu = lister_data['revenue'].sum() / lister_data['user_id'].nunique()\n",
    "\n",
    "print(f\"Средний доход на пользователя (ARPU): {arpu:.2f}\")"
   ]
  },
  {
   "cell_type": "code",
   "execution_count": 28,
   "id": "846256b5-1665-4142-bd86-2b6b18212782",
   "metadata": {},
   "outputs": [
    {
     "name": "stdout",
     "output_type": "stream",
     "text": [
      "Медиана возраста пользователей: 28.0\n"
     ]
    }
   ],
   "source": [
    "median_age = lister_data['age'].median()\n",
    "print(f\"Медиана возраста пользователей: {median_age}\")"
   ]
  },
  {
   "cell_type": "code",
   "execution_count": 44,
   "id": "af567ed4-0903-460f-bc92-5d49fc91ef02",
   "metadata": {},
   "outputs": [
    {
     "name": "stdout",
     "output_type": "stream",
     "text": [
      "Средний доход на пользователя: 681.0303350970017\n"
     ]
    }
   ],
   "source": [
    "if 'revenue' in data.columns:\n",
    "    average_revenue = data['revenue'].mean()\n",
    "    print(f\"Средний доход на пользователя: {average_revenue}\")\n",
    "else:\n",
    "    print(\"В датасете отсутствует столбец 'revenue'. Пожалуйста, проверьте данные.\")"
   ]
  },
  {
   "cell_type": "code",
   "execution_count": null,
   "id": "40eb71d8-3475-4498-b364-1c022227e574",
   "metadata": {},
   "outputs": [],
   "source": []
  },
  {
   "cell_type": "code",
   "execution_count": null,
   "id": "4e9a42a0-269a-4ac2-a255-38bdc3318e60",
   "metadata": {},
   "outputs": [],
   "source": []
  }
 ],
 "metadata": {
  "kernelspec": {
   "display_name": "Python 3 (ipykernel)",
   "language": "python",
   "name": "python3"
  },
  "language_info": {
   "codemirror_mode": {
    "name": "ipython",
    "version": 3
   },
   "file_extension": ".py",
   "mimetype": "text/x-python",
   "name": "python",
   "nbconvert_exporter": "python",
   "pygments_lexer": "ipython3",
   "version": "3.12.4"
  }
 },
 "nbformat": 4,
 "nbformat_minor": 5
}
